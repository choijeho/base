{
 "cells": [
  {
   "cell_type": "code",
   "execution_count": 1,
   "id": "599fa913-bb30-4574-8b81-eae9efbe1292",
   "metadata": {},
   "outputs": [
    {
     "name": "stdout",
     "output_type": "stream",
     "text": [
      "12\n"
     ]
    }
   ],
   "source": [
    "import numpy as np\n",
    "a=[1,2,3,4,5]\n",
    "b=np.array(a)\n",
    "c=np.array([1,3,5])\n",
    "d = a[0:3] # list와 동일 방법\n",
    "e=a*2 # [1, 2, 3, 4, 5, 1, 2, 3, 4, 5]\n",
    "f=b*2 # [ 2  4  6  8 10]\n",
    "k=np.array(12)\n",
    "print(k)"
   ]
  },
  {
   "cell_type": "code",
   "execution_count": 7,
   "id": "c3b2d879-0d13-41bb-a572-2bd03946f0cd",
   "metadata": {
    "collapsed": true,
    "jupyter": {
     "outputs_hidden": true
    }
   },
   "outputs": [
    {
     "name": "stdout",
     "output_type": "stream",
     "text": [
      "int32\n",
      "2\n",
      "(3, 3)\n",
      "int32\n"
     ]
    }
   ],
   "source": [
    "a = np.array([1,2,3], dtype=int) # dtype = int, float, boo\n",
    "a = np.array([[1, 2, 3], [4, 5, 6], [7, 8, 9]])\n",
    "b = np.array([[[1, 2], [3, 4]], [[5, 6], [7, 8]], [[9, 10], [11, 12]]])\n",
    "print(a.ndim) # 2\n",
    "print(a.shape) # (3,3)\n",
    "print(a.dtype) # int\n"
   ]
  },
  {
   "cell_type": "code",
   "execution_count": 16,
   "id": "e2a13de3-9913-47b9-ad7f-4dbaa1acabd3",
   "metadata": {
    "collapsed": true,
    "jupyter": {
     "outputs_hidden": true
    }
   },
   "outputs": [
    {
     "name": "stdout",
     "output_type": "stream",
     "text": [
      "[[1 0 0 0]\n",
      " [0 1 0 0]\n",
      " [0 0 1 0]\n",
      " [0 0 0 1]]\n",
      "[[0 1 0 0]\n",
      " [0 0 1 0]\n",
      " [0 0 0 1]\n",
      " [0 0 0 0]]\n"
     ]
    }
   ],
   "source": [
    "a=np.ones((3,3), dtype=int) # [[1 1 1] [1 1 1] [1 1 1]]\n",
    "b=np.zeros((3,3), dtype=int) # [[0 0 0] [0 0 0] [0 0 0]]\n",
    "c=np.ones_like(a, dtype=int) # [[1 1 1] [1 1 1] [1 1 1]]\n",
    "d=np.empty((2,2), dtype=int) # 초기화 없음 [[  622251514 -1991051952] [-1075023520  -937388200]]\n",
    "e=np.empty_like(b, dtype=int) # 초기화 없음 [[1 1 1] [1 1 1] [1 1 1]]\n",
    "f=np.identity(4, dtype=int) # [[1 0 0 0] [0 1 0 0] [0 0 1 0] [0 0 0 1]]\n",
    "g=np.eye(4,4, k=1, dtype=int) # [[0 1 0 0] [0 0 1 0] [0 0 0 1] [0 0 0 0]]"
   ]
  },
  {
   "cell_type": "code",
   "execution_count": 29,
   "id": "ee0fa2d8-d22c-47fd-84ea-3e7948915ce3",
   "metadata": {},
   "outputs": [
    {
     "name": "stdout",
     "output_type": "stream",
     "text": [
      "[[1 2]]\n",
      "[ 6 15 24]\n"
     ]
    }
   ],
   "source": [
    "a=np.arange(0,10, step=2)\n",
    "b=np.linspace(0,10, num=5, endpoint=True, retstep=True) # 10을 마지막 값으로(True), 간격 표시(retstep)\n",
    "a = np.array([[1, 2, 3], [4, 5, 6], [7, 8, 9]]) # 2x3\n",
    "print(a[0:1, 0:2]) # [1,2]\n",
    "c=a.reshape(9,1)\n",
    "e=np.array([[1,2,3], [4,5,6], [7,8,9]], dtype=int)\n",
    "f=np.ones(3, dtype=int)\n",
    "g=np.cross(e,f) # cross product\n",
    "h=np.dot(e,f) # dot product\n",
    "# np.add np.subtract, np.multiply, np.divide np.power np.sqrt np.mod np.floor_divide np.logaddexp ...\n",
    "# np.sin(a), np.cos() np.arcsin() np.sinh() np.deg2rad\n",
    "# np.bitwise_and or xor not shift"
   ]
  },
  {
   "cell_type": "code",
   "execution_count": 31,
   "id": "cfad738e-cdc4-4930-9aa2-9eed40c39dad",
   "metadata": {},
   "outputs": [
    {
     "name": "stdout",
     "output_type": "stream",
     "text": [
      "[[ 1  6]\n",
      " [ 6 16]]\n",
      "[[ 5 11]\n",
      " [11 25]]\n"
     ]
    }
   ],
   "source": [
    "a = np.array([[1, 2], [3, 4]])\n",
    "b = np.array([[1, 3], [2, 4]])\n",
    "print(a*b)\n",
    "ma=np.mat(a)\n",
    "mb=np.mat(b)\n",
    "print(ma*mb)"
   ]
  }
 ],
 "metadata": {
  "kernelspec": {
   "display_name": "Python 3 (ipykernel)",
   "language": "python",
   "name": "python3"
  },
  "language_info": {
   "codemirror_mode": {
    "name": "ipython",
    "version": 3
   },
   "file_extension": ".py",
   "mimetype": "text/x-python",
   "name": "python",
   "nbconvert_exporter": "python",
   "pygments_lexer": "ipython3",
   "version": "3.9.7"
  }
 },
 "nbformat": 4,
 "nbformat_minor": 5
}
