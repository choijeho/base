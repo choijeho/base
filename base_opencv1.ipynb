{
 "cells": [
  {
   "cell_type": "code",
   "execution_count": 6,
   "id": "a629f867",
   "metadata": {},
   "outputs": [],
   "source": [
    "import cv2\n",
    "import matplotlib.pyplot as plt\n",
    "\n",
    "img_file=\"data/data_opencv/img/girl.jpg\"\n",
    "# img=cv2.imread(img_file)\n",
    "img=cv2.imread(img_file, cv2.IMREAD_GRAYSCALE)\n",
    "if img is not None:\n",
    "    cv2.imshow('IMG', img)\n",
    "    cv2.waitKey(0)\n",
    "    cv2.destroyAllWindows()\n",
    "#     plt.imshow(img)\n",
    "#     plt.title('IMG')\n",
    "#     plt.show()\n",
    "else:\n",
    "    print('No image file')"
   ]
  },
  {
   "cell_type": "code",
   "execution_count": 8,
   "id": "6f3c592b",
   "metadata": {},
   "outputs": [],
   "source": [
    "save_file = \"data/data_opencv/img/girl_gray.jpg\"\n",
    "cv2.imwrite(save_file, img)\n",
    "cv2.waitKey(0)\n",
    "cv2.destroyAllWindows()"
   ]
  },
  {
   "cell_type": "code",
   "execution_count": 9,
   "id": "42bdc959",
   "metadata": {},
   "outputs": [],
   "source": [
    "video_file=\"data/data_opencv/img/big_buck.avi\"\n",
    "cap=cv2.VideoCapture(video_file)\n",
    "if cap.isOpened():\n",
    "    while True:\n",
    "        ret, img=cap.read()\n",
    "        if ret:\n",
    "            cv2.imshow(video_file, img)\n",
    "            cv2.waitKey(25) # 40fps로 기준, 25는 미리세컨드, 1000msec/40fps=25msec\n",
    "        else:\n",
    "            break\n",
    "else:\n",
    "    print(\"No video file\")\n",
    "cap.release()\n",
    "cv2.destroyAllWindows()    "
   ]
  },
  {
   "cell_type": "code",
   "execution_count": 3,
   "id": "a953e0f7",
   "metadata": {},
   "outputs": [],
   "source": [
    "import cv2\n",
    "# cap=cv2.VideoCapture(0)\n",
    "cap=cv2.VideoCapture(0, cv2.CAP_DSHOW) # 코덱을 사용하면 초기 기동까지 시간이 단축된다.\n",
    "if cap.isOpened():\n",
    "    while True:\n",
    "        ret, img=cap.read()\n",
    "        if ret:\n",
    "            cv2.imshow('camera', img)\n",
    "            if cv2.waitKey(1) != -1:\n",
    "                break\n",
    "        else:\n",
    "            print('no frame')\n",
    "            break\n",
    "else:\n",
    "    print(\"can't open camera\")\n",
    "cap.release()\n",
    "cv2.destroyAllWindows()    "
   ]
  },
  {
   "cell_type": "code",
   "execution_count": 5,
   "id": "c05ca9c7",
   "metadata": {},
   "outputs": [
    {
     "name": "stdout",
     "output_type": "stream",
     "text": [
      "FPS: 24.000000, Delay: 41ms\n"
     ]
    }
   ],
   "source": [
    "import cv2\n",
    "video_file=\"data/data_opencv/img/big_buck.avi\"\n",
    "cap=cv2.VideoCapture(video_file)\n",
    "if cap.isOpened():\n",
    "    fps=cap.get(cv2.CAP_PROP_FPS)\n",
    "    delay=int(1000/fps)\n",
    "    print(\"FPS: %f, Delay: %dms\" % (fps, delay))\n",
    "    while True:\n",
    "        ret, img=cap.read()\n",
    "        if ret:\n",
    "            cv2.imshow(video_file, img)\n",
    "            cv2.waitKey(delay)\n",
    "        else:\n",
    "            break\n",
    "else:\n",
    "    print(\"can't open video file\")\n",
    "cap.release()\n",
    "cv2.destroyAllWindows()       "
   ]
  },
  {
   "cell_type": "code",
   "execution_count": 6,
   "id": "2f40afc2",
   "metadata": {
    "collapsed": true
   },
   "outputs": [
    {
     "name": "stdout",
     "output_type": "stream",
     "text": [
      "original width: 640, height: 480\n",
      "Resized width: 320, height: 240\n"
     ]
    }
   ],
   "source": [
    "import cv2\n",
    "cap=cv2.VideoCapture(0)\n",
    "width=cap.get(cv2.CAP_PROP_FRAME_WIDTH)\n",
    "height=cap.get(cv2.CAP_PROP_FRAME_HEIGHT)\n",
    "print(\"original width: %d, height: %d\" % (width, height))\n",
    "\n",
    "cap.set(cv2.CAP_PROP_FRAME_WIDTH, 320)\n",
    "cap.set(cv2.CAP_PROP_FRAME_HEIGHT, 240)\n",
    "width=cap.get(cv2.CAP_PROP_FRAME_WIDTH)\n",
    "height=cap.get(cv2.CAP_PROP_FRAME_HEIGHT)\n",
    "print(\"Resized width: %d, height: %d\" % (width, height))\n",
    "\n",
    "if cap.isOpened():\n",
    "    while True:\n",
    "        ret, img=cap.read()\n",
    "        if ret:\n",
    "            cv2.imshow('camera', img)\n",
    "            if cv2.waitKey(1) !=-1:\n",
    "                break\n",
    "        else:\n",
    "            print('no frame')\n",
    "            break\n",
    "else:\n",
    "    print(\"can't open camera\")\n",
    "cap.release()\n",
    "cv2.destroyAllWindows()"
   ]
  },
  {
   "cell_type": "code",
   "execution_count": 7,
   "id": "a6464f6e",
   "metadata": {},
   "outputs": [],
   "source": [
    "import cv2\n",
    "\n",
    "cap=cv2.VideoCapture(0)\n",
    "if cap.isOpened:\n",
    "    while True:\n",
    "        ret, frame=cap.read()\n",
    "        if ret:\n",
    "            cv2.imshow('camera', frame)\n",
    "            if cv2.waitKey(1) != -1:\n",
    "                cv2.imwrite('photo.jpg', frame)\n",
    "                break\n",
    "        else:\n",
    "            print('no frame')\n",
    "            break\n",
    "else:\n",
    "    print('no camera')\n",
    "cap.release()\n",
    "cv2.destroyAllWindows()"
   ]
  },
  {
   "cell_type": "code",
   "execution_count": 8,
   "id": "e961d23f",
   "metadata": {},
   "outputs": [],
   "source": [
    "cap=cv2.VideoCapture(0)\n",
    "if cap.isOpened:\n",
    "    file_path = \"data/data_opencv/img/test.avi\"\n",
    "    fps=25.4\n",
    "    fourcc=cv2.VideoWriter_fourcc(*'DIVX')\n",
    "    width=cap.get(cv2.CAP_PROP_FRAME_WIDTH)\n",
    "    height=cap.get(cv2.CAP_PROP_FRAME_HEIGHT)\n",
    "    size=(int(width), int(height))\n",
    "    out=cv2.VideoWriter(file_path, fourcc, fps, size)\n",
    "    while True:\n",
    "        ret, frame = cap.read()\n",
    "        if ret:\n",
    "            cv2.imshow('camera-recording', frame)\n",
    "            out.write(frame)\n",
    "            if cv2.waitKey(int(1000/fps)) != -1:\n",
    "                break\n",
    "        else:\n",
    "            print('no frame')\n",
    "            break\n",
    "    out.release()\n",
    "else:\n",
    "    print(\"can't open camera\")\n",
    "cap.release()\n",
    "cv2.destroyAllWindows()"
   ]
  },
  {
   "cell_type": "code",
   "execution_count": 10,
   "id": "218ba859",
   "metadata": {},
   "outputs": [],
   "source": [
    "img=cv2.imread('data/data_opencv/img/blank_500.jpg')\n",
    "cv2.line(img, (50,50), (150,50), (255,0,0))\n",
    "cv2.imshow('lines', img)\n",
    "cv2.waitKey()\n",
    "cv2.destroyAllWindows()"
   ]
  },
  {
   "cell_type": "code",
   "execution_count": 13,
   "id": "1cd8787e",
   "metadata": {},
   "outputs": [],
   "source": [
    "import numpy as np\n",
    "img=cv2.imread('data/data_opencv/img/blank_500.jpg')\n",
    "pts1= np.array([[50,50],[150,150],[100,140],[200,240]], dtype=int)\n",
    "cv2.polylines(img, [pts1], False, (255,0,0))\n",
    "cv2.imshow('lines', img)\n",
    "cv2.waitKey()\n",
    "cv2.destroyAllWindows()"
   ]
  },
  {
   "cell_type": "code",
   "execution_count": 14,
   "id": "0b9735b2",
   "metadata": {},
   "outputs": [],
   "source": [
    "img=cv2.imread('data/data_opencv/img/blank_500.jpg')\n",
    "cv2.putText(img, \"Plain\", (50,30), cv2.FONT_HERSHEY_PLAIN, 1, (0,0,0))\n",
    "cv2.imshow('lines', img)\n",
    "cv2.waitKey()\n",
    "cv2.destroyAllWindows()"
   ]
  }
 ],
 "metadata": {
  "kernelspec": {
   "display_name": "Python 3 (ipykernel)",
   "language": "python",
   "name": "python3"
  },
  "language_info": {
   "codemirror_mode": {
    "name": "ipython",
    "version": 3
   },
   "file_extension": ".py",
   "mimetype": "text/x-python",
   "name": "python",
   "nbconvert_exporter": "python",
   "pygments_lexer": "ipython3",
   "version": "3.9.7"
  }
 },
 "nbformat": 4,
 "nbformat_minor": 5
}
